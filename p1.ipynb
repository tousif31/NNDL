{
 "cells": [
  {
   "cell_type": "code",
   "execution_count": null,
   "id": "5e2854a3-cadc-4739-974e-9ce29b997b52",
   "metadata": {},
   "outputs": [],
   "source": [
    "import numpy as np"
   ]
  },
  {
   "cell_type": "code",
   "execution_count": null,
   "id": "b1760f5f-078f-47c1-acf9-5b2e9604f9e8",
   "metadata": {},
   "outputs": [],
   "source": [
    "X_OR = np.array ([[0,0],[0,1],[1,0],[1,1]],dtype = np.float32)\n",
    "y_OR = np.array([[0],[1],[1],[1]],dtype = np.float32)\n",
    "X_XOR = np.array([[0,0],[0,1],[1,0],[1,1]],dtype = np.float32)\n",
    "y_XOR = np.array([[0],[1],[1],[0]],dtype=np.float32)"
   ]
  },
  {
   "cell_type": "code",
   "execution_count": null,
   "id": "073d4604-9753-4a48-83c5-ed570146b8bf",
   "metadata": {},
   "outputs": [],
   "source": [
    "import tensorflow as tf"
   ]
  },
  {
   "cell_type": "code",
   "execution_count": null,
   "id": "ca01c80c-c145-4272-ba83-8865fb3d79d4",
   "metadata": {},
   "outputs": [],
   "source": [
    "def train_perceptron(X,y,epochs=100,learning_rate=0.1):\n",
    "    model =tf.keras.Sequential([tf.keras.layers.Dense(1,activation='sigmoid',input_shape=(2,))])\n",
    "    model.compile(optimizer=tf.keras.optimizers.SGD(learning_rate=learning_rate),\n",
    "    loss='binary_crossentropy',metrics=['accuracy'])\n",
    "    model.fit(X,y,epochs=epochs,verbose=0)\n",
    "    return model\n",
    "\n",
    "    \n",
    "model_OR = train_perceptron(X_OR,y_OR,epochs=500,learning_rate=0.5)\n",
    "loss_OR,accuracy_OR=model_OR.evaluate(X_OR,y_OR)\n",
    "print(f\"OR gate acuracy:{accuracy_OR}\")\n",
    "\n",
    "model_XOR = train_perceptron(X_XOR,y_XOR,epochs=1000,learning_rate=0.8)\n",
    "loss_XOR,accuracy_XOR=model_XOR.evaluate(X_XOR,y_XOR)\n",
    "print(f\"XOR gate acuracy:{accuracy_XOR}\")\n",
    "\n",
    "\n",
    "input1=0\n",
    "input2=0\n",
    "user=np.array([[input1,input2]])\n",
    "prediction=model_XOR.predict(user)\n",
    "\n",
    "if prediction > 0.5:\n",
    "    print(\"The model predicts 1 for your input\")\n",
    "else:\n",
    "    print(\"The model predicts 0 for your input\")\n",
    "    \n",
    "prediction=model_OR.predict(user)\n",
    "\n",
    "\n",
    "if prediction > 0.5:\n",
    "    print(\"The model predicts 1 for your input\")\n",
    "else:\n",
    "    print(\"The model predicts 0 for your input\")"
   ]
  },
  {
   "cell_type": "code",
   "execution_count": null,
   "id": "5852dd4a-f9f4-4035-891e-cb3a7f9a39f9",
   "metadata": {},
   "outputs": [],
   "source": []
  },
  {
   "cell_type": "code",
   "execution_count": null,
   "id": "30c3f0b2-ef65-4ee6-98fc-f1fbc7a82018",
   "metadata": {},
   "outputs": [],
   "source": []
  }
 ],
 "metadata": {
  "kernelspec": {
   "display_name": "Python 3 (ipykernel)",
   "language": "python",
   "name": "python3"
  },
  "language_info": {
   "codemirror_mode": {
    "name": "ipython",
    "version": 3
   },
   "file_extension": ".py",
   "mimetype": "text/x-python",
   "name": "python",
   "nbconvert_exporter": "python",
   "pygments_lexer": "ipython3",
   "version": "3.12.10"
  }
 },
 "nbformat": 4,
 "nbformat_minor": 5
}
